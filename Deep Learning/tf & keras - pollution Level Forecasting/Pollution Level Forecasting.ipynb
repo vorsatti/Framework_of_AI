{
 "cells": [
  {
   "cell_type": "code",
   "execution_count": 2,
   "metadata": {},
   "outputs": [],
   "source": [
    "import tensorflow as tf\n",
    "import numpy as np\n",
    "import pandas as pd\n",
    "import matplotlib.pyplot as plt\n",
    "%matplotlib inline\n",
    "import seaborn as sns"
   ]
  },
  {
   "cell_type": "code",
   "execution_count": 3,
   "metadata": {},
   "outputs": [],
   "source": [
    "from plotly.offline import download_plotlyjs, init_notebook_mode, plot, iplot\n",
    "import plotly.graph_objs as go"
   ]
  },
  {
   "cell_type": "code",
   "execution_count": 4,
   "metadata": {},
   "outputs": [],
   "source": [
    "data = pd.read_csv('PRSA_data.csv')"
   ]
  },
  {
   "cell_type": "code",
   "execution_count": 5,
   "metadata": {
    "scrolled": true
   },
   "outputs": [
    {
     "name": "stdout",
     "output_type": "stream",
     "text": [
      "Shape of the data  (43824, 13)\n"
     ]
    },
    {
     "data": {
      "text/plain": [
       "Index(['No', 'year', 'month', 'day', 'hour', 'pm2.5', 'DEWP', 'TEMP', 'PRES',\n",
       "       'cbwd', 'Iws', 'Is', 'Ir'],\n",
       "      dtype='object')"
      ]
     },
     "execution_count": 5,
     "metadata": {},
     "output_type": "execute_result"
    }
   ],
   "source": [
    "print('Shape of the data ', data.shape)\n",
    "data.columns"
   ]
  },
  {
   "cell_type": "markdown",
   "metadata": {},
   "source": [
    "#### Attribute Information:\n",
    "\n",
    "    No: row number \n",
    "    year: year of data in this row \n",
    "    month: month of data in this row \n",
    "    day: day of data in this row \n",
    "    hour: hour of data in this row \n",
    "    pm2.5: PM2.5 concentration (ug/m^3) \n",
    "    DEWP: Dew Point (â„ƒ) \n",
    "    TEMP: Temperature (â„ƒ) \n",
    "    PRES: Pressure (hPa) \n",
    "    cbwd: Combined wind direction \n",
    "    Iws: Cumulated wind speed (m/s) \n",
    "    Is: Cumulated hours of snow \n",
    "    Ir: Cumulated hours of rain \n",
    "\n"
   ]
  },
  {
   "cell_type": "code",
   "execution_count": 6,
   "metadata": {
    "scrolled": true
   },
   "outputs": [],
   "source": [
    "# Delete No because useless\n",
    "data = data.iloc[:, 1:]"
   ]
  },
  {
   "cell_type": "markdown",
   "metadata": {},
   "source": [
    "# Taking care of the time\n",
    "\n",
    "Let's create a variable which contains the date and hour"
   ]
  },
  {
   "cell_type": "code",
   "execution_count": 7,
   "metadata": {},
   "outputs": [
    {
     "name": "stdout",
     "output_type": "stream",
     "text": [
      "(43824, 14)\n"
     ]
    }
   ],
   "source": [
    "data['date'] = pd.to_datetime((data.year*10000+data.month*100+data.day).apply(str),format='%Y%m%d')\n",
    "data['day_of_the_year'] = data.month * data.day\n",
    "print(data.shape)"
   ]
  },
  {
   "cell_type": "code",
   "execution_count": 8,
   "metadata": {},
   "outputs": [],
   "source": [
    "data = data.drop(labels=['year', 'month','day'], axis=1)"
   ]
  },
  {
   "cell_type": "code",
   "execution_count": 9,
   "metadata": {},
   "outputs": [
    {
     "data": {
      "text/html": [
       "<div>\n",
       "<style scoped>\n",
       "    .dataframe tbody tr th:only-of-type {\n",
       "        vertical-align: middle;\n",
       "    }\n",
       "\n",
       "    .dataframe tbody tr th {\n",
       "        vertical-align: top;\n",
       "    }\n",
       "\n",
       "    .dataframe thead th {\n",
       "        text-align: right;\n",
       "    }\n",
       "</style>\n",
       "<table border=\"1\" class=\"dataframe\">\n",
       "  <thead>\n",
       "    <tr style=\"text-align: right;\">\n",
       "      <th></th>\n",
       "      <th>pm2.5</th>\n",
       "      <th>DEWP</th>\n",
       "      <th>TEMP</th>\n",
       "      <th>PRES</th>\n",
       "      <th>cbwd</th>\n",
       "      <th>Iws</th>\n",
       "      <th>Is</th>\n",
       "      <th>Ir</th>\n",
       "      <th>date</th>\n",
       "      <th>day_of_the_year</th>\n",
       "    </tr>\n",
       "  </thead>\n",
       "  <tbody>\n",
       "    <tr>\n",
       "      <th>0</th>\n",
       "      <td>NaN</td>\n",
       "      <td>-21</td>\n",
       "      <td>-11.0</td>\n",
       "      <td>1021.0</td>\n",
       "      <td>NW</td>\n",
       "      <td>1.79</td>\n",
       "      <td>0</td>\n",
       "      <td>0</td>\n",
       "      <td>2010-01-01 00:00:00</td>\n",
       "      <td>1</td>\n",
       "    </tr>\n",
       "    <tr>\n",
       "      <th>1</th>\n",
       "      <td>NaN</td>\n",
       "      <td>-21</td>\n",
       "      <td>-12.0</td>\n",
       "      <td>1020.0</td>\n",
       "      <td>NW</td>\n",
       "      <td>4.92</td>\n",
       "      <td>0</td>\n",
       "      <td>0</td>\n",
       "      <td>2010-01-01 01:00:00</td>\n",
       "      <td>1</td>\n",
       "    </tr>\n",
       "    <tr>\n",
       "      <th>2</th>\n",
       "      <td>NaN</td>\n",
       "      <td>-21</td>\n",
       "      <td>-11.0</td>\n",
       "      <td>1019.0</td>\n",
       "      <td>NW</td>\n",
       "      <td>6.71</td>\n",
       "      <td>0</td>\n",
       "      <td>0</td>\n",
       "      <td>2010-01-01 02:00:00</td>\n",
       "      <td>1</td>\n",
       "    </tr>\n",
       "    <tr>\n",
       "      <th>3</th>\n",
       "      <td>NaN</td>\n",
       "      <td>-21</td>\n",
       "      <td>-14.0</td>\n",
       "      <td>1019.0</td>\n",
       "      <td>NW</td>\n",
       "      <td>9.84</td>\n",
       "      <td>0</td>\n",
       "      <td>0</td>\n",
       "      <td>2010-01-01 03:00:00</td>\n",
       "      <td>1</td>\n",
       "    </tr>\n",
       "    <tr>\n",
       "      <th>4</th>\n",
       "      <td>NaN</td>\n",
       "      <td>-20</td>\n",
       "      <td>-12.0</td>\n",
       "      <td>1018.0</td>\n",
       "      <td>NW</td>\n",
       "      <td>12.97</td>\n",
       "      <td>0</td>\n",
       "      <td>0</td>\n",
       "      <td>2010-01-01 04:00:00</td>\n",
       "      <td>1</td>\n",
       "    </tr>\n",
       "  </tbody>\n",
       "</table>\n",
       "</div>"
      ],
      "text/plain": [
       "   pm2.5  DEWP  TEMP    PRES cbwd    Iws  Is  Ir                date  \\\n",
       "0    NaN   -21 -11.0  1021.0   NW   1.79   0   0 2010-01-01 00:00:00   \n",
       "1    NaN   -21 -12.0  1020.0   NW   4.92   0   0 2010-01-01 01:00:00   \n",
       "2    NaN   -21 -11.0  1019.0   NW   6.71   0   0 2010-01-01 02:00:00   \n",
       "3    NaN   -21 -14.0  1019.0   NW   9.84   0   0 2010-01-01 03:00:00   \n",
       "4    NaN   -20 -12.0  1018.0   NW  12.97   0   0 2010-01-01 04:00:00   \n",
       "\n",
       "   day_of_the_year  \n",
       "0                1  \n",
       "1                1  \n",
       "2                1  \n",
       "3                1  \n",
       "4                1  "
      ]
     },
     "execution_count": 9,
     "metadata": {},
     "output_type": "execute_result"
    }
   ],
   "source": [
    "data['date'] +=  pd.to_timedelta(data.hour, unit='h')\n",
    "data = data.drop('hour', axis=1)\n",
    "data.head(5)"
   ]
  },
  {
   "cell_type": "code",
   "execution_count": 10,
   "metadata": {},
   "outputs": [],
   "source": [
    "# Rearrange columns position\n",
    "cols = data.columns.tolist()\n",
    "cols = cols[-2:] + cols[:-2]\n",
    "data = data[cols]"
   ]
  },
  {
   "cell_type": "code",
   "execution_count": 11,
   "metadata": {},
   "outputs": [
    {
     "data": {
      "text/html": [
       "<div>\n",
       "<style scoped>\n",
       "    .dataframe tbody tr th:only-of-type {\n",
       "        vertical-align: middle;\n",
       "    }\n",
       "\n",
       "    .dataframe tbody tr th {\n",
       "        vertical-align: top;\n",
       "    }\n",
       "\n",
       "    .dataframe thead th {\n",
       "        text-align: right;\n",
       "    }\n",
       "</style>\n",
       "<table border=\"1\" class=\"dataframe\">\n",
       "  <thead>\n",
       "    <tr style=\"text-align: right;\">\n",
       "      <th></th>\n",
       "      <th>date</th>\n",
       "      <th>day_of_the_year</th>\n",
       "      <th>pm2.5</th>\n",
       "      <th>DEWP</th>\n",
       "      <th>TEMP</th>\n",
       "      <th>PRES</th>\n",
       "      <th>cbwd</th>\n",
       "      <th>Iws</th>\n",
       "      <th>Is</th>\n",
       "      <th>Ir</th>\n",
       "    </tr>\n",
       "  </thead>\n",
       "  <tbody>\n",
       "    <tr>\n",
       "      <th>0</th>\n",
       "      <td>2010-01-01 00:00:00</td>\n",
       "      <td>1</td>\n",
       "      <td>NaN</td>\n",
       "      <td>-21</td>\n",
       "      <td>-11.0</td>\n",
       "      <td>1021.0</td>\n",
       "      <td>NW</td>\n",
       "      <td>1.79</td>\n",
       "      <td>0</td>\n",
       "      <td>0</td>\n",
       "    </tr>\n",
       "    <tr>\n",
       "      <th>1</th>\n",
       "      <td>2010-01-01 01:00:00</td>\n",
       "      <td>1</td>\n",
       "      <td>NaN</td>\n",
       "      <td>-21</td>\n",
       "      <td>-12.0</td>\n",
       "      <td>1020.0</td>\n",
       "      <td>NW</td>\n",
       "      <td>4.92</td>\n",
       "      <td>0</td>\n",
       "      <td>0</td>\n",
       "    </tr>\n",
       "    <tr>\n",
       "      <th>2</th>\n",
       "      <td>2010-01-01 02:00:00</td>\n",
       "      <td>1</td>\n",
       "      <td>NaN</td>\n",
       "      <td>-21</td>\n",
       "      <td>-11.0</td>\n",
       "      <td>1019.0</td>\n",
       "      <td>NW</td>\n",
       "      <td>6.71</td>\n",
       "      <td>0</td>\n",
       "      <td>0</td>\n",
       "    </tr>\n",
       "    <tr>\n",
       "      <th>3</th>\n",
       "      <td>2010-01-01 03:00:00</td>\n",
       "      <td>1</td>\n",
       "      <td>NaN</td>\n",
       "      <td>-21</td>\n",
       "      <td>-14.0</td>\n",
       "      <td>1019.0</td>\n",
       "      <td>NW</td>\n",
       "      <td>9.84</td>\n",
       "      <td>0</td>\n",
       "      <td>0</td>\n",
       "    </tr>\n",
       "    <tr>\n",
       "      <th>4</th>\n",
       "      <td>2010-01-01 04:00:00</td>\n",
       "      <td>1</td>\n",
       "      <td>NaN</td>\n",
       "      <td>-20</td>\n",
       "      <td>-12.0</td>\n",
       "      <td>1018.0</td>\n",
       "      <td>NW</td>\n",
       "      <td>12.97</td>\n",
       "      <td>0</td>\n",
       "      <td>0</td>\n",
       "    </tr>\n",
       "  </tbody>\n",
       "</table>\n",
       "</div>"
      ],
      "text/plain": [
       "                 date  day_of_the_year  pm2.5  DEWP  TEMP    PRES cbwd    Iws  \\\n",
       "0 2010-01-01 00:00:00                1    NaN   -21 -11.0  1021.0   NW   1.79   \n",
       "1 2010-01-01 01:00:00                1    NaN   -21 -12.0  1020.0   NW   4.92   \n",
       "2 2010-01-01 02:00:00                1    NaN   -21 -11.0  1019.0   NW   6.71   \n",
       "3 2010-01-01 03:00:00                1    NaN   -21 -14.0  1019.0   NW   9.84   \n",
       "4 2010-01-01 04:00:00                1    NaN   -20 -12.0  1018.0   NW  12.97   \n",
       "\n",
       "   Is  Ir  \n",
       "0   0   0  \n",
       "1   0   0  \n",
       "2   0   0  \n",
       "3   0   0  \n",
       "4   0   0  "
      ]
     },
     "execution_count": 11,
     "metadata": {},
     "output_type": "execute_result"
    }
   ],
   "source": [
    "data.head()"
   ]
  },
  {
   "cell_type": "code",
   "execution_count": 12,
   "metadata": {
    "scrolled": true
   },
   "outputs": [
    {
     "data": {
      "text/plain": [
       "<matplotlib.axes._subplots.AxesSubplot at 0x1fae7278>"
      ]
     },
     "execution_count": 12,
     "metadata": {},
     "output_type": "execute_result"
    },
    {
     "data": {
      "image/png": "[encoded data removed]",
      "text/plain": [
       "<Figure size 432x288 with 1 Axes>"
      ]
     },
     "metadata": {},
     "output_type": "display_data"
    }
   ],
   "source": [
    "# Plot Is\n",
    "data.plot.line(x='date', y='pm2.5')"
   ]
  },
  {
   "cell_type": "code",
   "execution_count": 13,
   "metadata": {},
   "outputs": [],
   "source": [
    "data['sin_day'] = np.sin(2*np.pi*data.day_of_the_year/365)\n",
    "data['cos_day'] = np.cos(2*np.pi*data.day_of_the_year/365)"
   ]
  },
  {
   "cell_type": "code",
   "execution_count": 14,
   "metadata": {},
   "outputs": [
    {
     "data": {
      "text/html": [
       "<div>\n",
       "<style scoped>\n",
       "    .dataframe tbody tr th:only-of-type {\n",
       "        vertical-align: middle;\n",
       "    }\n",
       "\n",
       "    .dataframe tbody tr th {\n",
       "        vertical-align: top;\n",
       "    }\n",
       "\n",
       "    .dataframe thead th {\n",
       "        text-align: right;\n",
       "    }\n",
       "</style>\n",
       "<table border=\"1\" class=\"dataframe\">\n",
       "  <thead>\n",
       "    <tr style=\"text-align: right;\">\n",
       "      <th></th>\n",
       "      <th>pm2.5</th>\n",
       "      <th>DEWP</th>\n",
       "      <th>TEMP</th>\n",
       "      <th>PRES</th>\n",
       "      <th>cbwd</th>\n",
       "      <th>Iws</th>\n",
       "      <th>Is</th>\n",
       "      <th>Ir</th>\n",
       "      <th>sin_day</th>\n",
       "      <th>cos_day</th>\n",
       "    </tr>\n",
       "  </thead>\n",
       "  <tbody>\n",
       "    <tr>\n",
       "      <th>0</th>\n",
       "      <td>NaN</td>\n",
       "      <td>-21</td>\n",
       "      <td>-11.0</td>\n",
       "      <td>1021.0</td>\n",
       "      <td>NW</td>\n",
       "      <td>1.79</td>\n",
       "      <td>0</td>\n",
       "      <td>0</td>\n",
       "      <td>0.017213</td>\n",
       "      <td>0.999852</td>\n",
       "    </tr>\n",
       "    <tr>\n",
       "      <th>1</th>\n",
       "      <td>NaN</td>\n",
       "      <td>-21</td>\n",
       "      <td>-12.0</td>\n",
       "      <td>1020.0</td>\n",
       "      <td>NW</td>\n",
       "      <td>4.92</td>\n",
       "      <td>0</td>\n",
       "      <td>0</td>\n",
       "      <td>0.017213</td>\n",
       "      <td>0.999852</td>\n",
       "    </tr>\n",
       "    <tr>\n",
       "      <th>2</th>\n",
       "      <td>NaN</td>\n",
       "      <td>-21</td>\n",
       "      <td>-11.0</td>\n",
       "      <td>1019.0</td>\n",
       "      <td>NW</td>\n",
       "      <td>6.71</td>\n",
       "      <td>0</td>\n",
       "      <td>0</td>\n",
       "      <td>0.017213</td>\n",
       "      <td>0.999852</td>\n",
       "    </tr>\n",
       "    <tr>\n",
       "      <th>3</th>\n",
       "      <td>NaN</td>\n",
       "      <td>-21</td>\n",
       "      <td>-14.0</td>\n",
       "      <td>1019.0</td>\n",
       "      <td>NW</td>\n",
       "      <td>9.84</td>\n",
       "      <td>0</td>\n",
       "      <td>0</td>\n",
       "      <td>0.017213</td>\n",
       "      <td>0.999852</td>\n",
       "    </tr>\n",
       "    <tr>\n",
       "      <th>4</th>\n",
       "      <td>NaN</td>\n",
       "      <td>-20</td>\n",
       "      <td>-12.0</td>\n",
       "      <td>1018.0</td>\n",
       "      <td>NW</td>\n",
       "      <td>12.97</td>\n",
       "      <td>0</td>\n",
       "      <td>0</td>\n",
       "      <td>0.017213</td>\n",
       "      <td>0.999852</td>\n",
       "    </tr>\n",
       "  </tbody>\n",
       "</table>\n",
       "</div>"
      ],
      "text/plain": [
       "   pm2.5  DEWP  TEMP    PRES cbwd    Iws  Is  Ir   sin_day   cos_day\n",
       "0    NaN   -21 -11.0  1021.0   NW   1.79   0   0  0.017213  0.999852\n",
       "1    NaN   -21 -12.0  1020.0   NW   4.92   0   0  0.017213  0.999852\n",
       "2    NaN   -21 -11.0  1019.0   NW   6.71   0   0  0.017213  0.999852\n",
       "3    NaN   -21 -14.0  1019.0   NW   9.84   0   0  0.017213  0.999852\n",
       "4    NaN   -20 -12.0  1018.0   NW  12.97   0   0  0.017213  0.999852"
      ]
     },
     "execution_count": 14,
     "metadata": {},
     "output_type": "execute_result"
    }
   ],
   "source": [
    "data = data.drop(labels=['date', 'day_of_the_year'], axis=1)\n",
    "data.head(5)"
   ]
  },
  {
   "cell_type": "code",
   "execution_count": 15,
   "metadata": {},
   "outputs": [
    {
     "data": {
      "image/png": "[encoded data removed]",
      "text/plain": [
       "<Figure size 432x288 with 1 Axes>"
      ]
     },
     "metadata": {},
     "output_type": "display_data"
    }
   ],
   "source": [
    "data.plot.scatter('sin_day','cos_day').set_aspect('equal')"
   ]
  },
  {
   "cell_type": "markdown",
   "metadata": {},
   "source": [
    "## Examine Missing Value"
   ]
  },
  {
   "cell_type": "code",
   "execution_count": 16,
   "metadata": {},
   "outputs": [
    {
     "data": {
      "text/html": [
       "<div>\n",
       "<style scoped>\n",
       "    .dataframe tbody tr th:only-of-type {\n",
       "        vertical-align: middle;\n",
       "    }\n",
       "\n",
       "    .dataframe tbody tr th {\n",
       "        vertical-align: top;\n",
       "    }\n",
       "\n",
       "    .dataframe thead th {\n",
       "        text-align: right;\n",
       "    }\n",
       "</style>\n",
       "<table border=\"1\" class=\"dataframe\">\n",
       "  <thead>\n",
       "    <tr style=\"text-align: right;\">\n",
       "      <th></th>\n",
       "      <th>Total</th>\n",
       "      <th>Percent</th>\n",
       "    </tr>\n",
       "  </thead>\n",
       "  <tbody>\n",
       "    <tr>\n",
       "      <th>pm2.5</th>\n",
       "      <td>2067</td>\n",
       "      <td>4.716594</td>\n",
       "    </tr>\n",
       "    <tr>\n",
       "      <th>cos_day</th>\n",
       "      <td>0</td>\n",
       "      <td>0.000000</td>\n",
       "    </tr>\n",
       "    <tr>\n",
       "      <th>sin_day</th>\n",
       "      <td>0</td>\n",
       "      <td>0.000000</td>\n",
       "    </tr>\n",
       "    <tr>\n",
       "      <th>Ir</th>\n",
       "      <td>0</td>\n",
       "      <td>0.000000</td>\n",
       "    </tr>\n",
       "    <tr>\n",
       "      <th>Is</th>\n",
       "      <td>0</td>\n",
       "      <td>0.000000</td>\n",
       "    </tr>\n",
       "    <tr>\n",
       "      <th>Iws</th>\n",
       "      <td>0</td>\n",
       "      <td>0.000000</td>\n",
       "    </tr>\n",
       "    <tr>\n",
       "      <th>cbwd</th>\n",
       "      <td>0</td>\n",
       "      <td>0.000000</td>\n",
       "    </tr>\n",
       "    <tr>\n",
       "      <th>PRES</th>\n",
       "      <td>0</td>\n",
       "      <td>0.000000</td>\n",
       "    </tr>\n",
       "    <tr>\n",
       "      <th>TEMP</th>\n",
       "      <td>0</td>\n",
       "      <td>0.000000</td>\n",
       "    </tr>\n",
       "    <tr>\n",
       "      <th>DEWP</th>\n",
       "      <td>0</td>\n",
       "      <td>0.000000</td>\n",
       "    </tr>\n",
       "  </tbody>\n",
       "</table>\n",
       "</div>"
      ],
      "text/plain": [
       "         Total   Percent\n",
       "pm2.5     2067  4.716594\n",
       "cos_day      0  0.000000\n",
       "sin_day      0  0.000000\n",
       "Ir           0  0.000000\n",
       "Is           0  0.000000\n",
       "Iws          0  0.000000\n",
       "cbwd         0  0.000000\n",
       "PRES         0  0.000000\n",
       "TEMP         0  0.000000\n",
       "DEWP         0  0.000000"
      ]
     },
     "execution_count": 16,
     "metadata": {},
     "output_type": "execute_result"
    }
   ],
   "source": [
    "def tbl_miss(df):\n",
    "    total = df.isnull().sum().sort_values(ascending = False)\n",
    "    percent = (df.isnull().sum()/df.isnull().count()*100).sort_values(ascending = False)\n",
    "    missing_df  = pd.concat([total, percent], axis=1, keys=['Total', 'Percent'])\n",
    "    return missing_df\n",
    "missing_values = tbl_miss(data)\n",
    "missing_values.head(10)"
   ]
  },
  {
   "cell_type": "markdown",
   "metadata": {},
   "source": [
    "pm2.5 is the only variable with NaN and these are only the 4.72% of the values in this column"
   ]
  },
  {
   "cell_type": "code",
   "execution_count": 17,
   "metadata": {},
   "outputs": [],
   "source": [
    "# Let's fill NaNs with the mean\n",
    "avg = data['pm2.5'].mean()\n",
    "data = data.fillna(value=avg)"
   ]
  },
  {
   "cell_type": "code",
   "execution_count": 18,
   "metadata": {
    "scrolled": true
   },
   "outputs": [
    {
     "data": {
      "text/plain": [
       "SE    15290\n",
       "NW    14150\n",
       "cv     9387\n",
       "NE     4997\n",
       "Name: cbwd, dtype: int64"
      ]
     },
     "execution_count": 18,
     "metadata": {},
     "output_type": "execute_result"
    }
   ],
   "source": [
    "data.cbwd.value_counts()"
   ]
  },
  {
   "cell_type": "markdown",
   "metadata": {},
   "source": [
    "## One-Hot-Encoding"
   ]
  },
  {
   "cell_type": "code",
   "execution_count": 19,
   "metadata": {},
   "outputs": [
    {
     "data": {
      "text/html": [
       "<div>\n",
       "<style scoped>\n",
       "    .dataframe tbody tr th:only-of-type {\n",
       "        vertical-align: middle;\n",
       "    }\n",
       "\n",
       "    .dataframe tbody tr th {\n",
       "        vertical-align: top;\n",
       "    }\n",
       "\n",
       "    .dataframe thead th {\n",
       "        text-align: right;\n",
       "    }\n",
       "</style>\n",
       "<table border=\"1\" class=\"dataframe\">\n",
       "  <thead>\n",
       "    <tr style=\"text-align: right;\">\n",
       "      <th></th>\n",
       "      <th>pm2.5</th>\n",
       "      <th>DEWP</th>\n",
       "      <th>TEMP</th>\n",
       "      <th>PRES</th>\n",
       "      <th>Iws</th>\n",
       "      <th>Is</th>\n",
       "      <th>Ir</th>\n",
       "      <th>sin_day</th>\n",
       "      <th>cos_day</th>\n",
       "      <th>cbwd_NW</th>\n",
       "      <th>cbwd_SE</th>\n",
       "      <th>cbwd_cv</th>\n",
       "    </tr>\n",
       "  </thead>\n",
       "  <tbody>\n",
       "    <tr>\n",
       "      <th>0</th>\n",
       "      <td>98.613215</td>\n",
       "      <td>-21</td>\n",
       "      <td>-11.0</td>\n",
       "      <td>1021.0</td>\n",
       "      <td>1.79</td>\n",
       "      <td>0</td>\n",
       "      <td>0</td>\n",
       "      <td>0.017213</td>\n",
       "      <td>0.999852</td>\n",
       "      <td>1</td>\n",
       "      <td>0</td>\n",
       "      <td>0</td>\n",
       "    </tr>\n",
       "    <tr>\n",
       "      <th>1</th>\n",
       "      <td>98.613215</td>\n",
       "      <td>-21</td>\n",
       "      <td>-12.0</td>\n",
       "      <td>1020.0</td>\n",
       "      <td>4.92</td>\n",
       "      <td>0</td>\n",
       "      <td>0</td>\n",
       "      <td>0.017213</td>\n",
       "      <td>0.999852</td>\n",
       "      <td>1</td>\n",
       "      <td>0</td>\n",
       "      <td>0</td>\n",
       "    </tr>\n",
       "    <tr>\n",
       "      <th>2</th>\n",
       "      <td>98.613215</td>\n",
       "      <td>-21</td>\n",
       "      <td>-11.0</td>\n",
       "      <td>1019.0</td>\n",
       "      <td>6.71</td>\n",
       "      <td>0</td>\n",
       "      <td>0</td>\n",
       "      <td>0.017213</td>\n",
       "      <td>0.999852</td>\n",
       "      <td>1</td>\n",
       "      <td>0</td>\n",
       "      <td>0</td>\n",
       "    </tr>\n",
       "    <tr>\n",
       "      <th>3</th>\n",
       "      <td>98.613215</td>\n",
       "      <td>-21</td>\n",
       "      <td>-14.0</td>\n",
       "      <td>1019.0</td>\n",
       "      <td>9.84</td>\n",
       "      <td>0</td>\n",
       "      <td>0</td>\n",
       "      <td>0.017213</td>\n",
       "      <td>0.999852</td>\n",
       "      <td>1</td>\n",
       "      <td>0</td>\n",
       "      <td>0</td>\n",
       "    </tr>\n",
       "    <tr>\n",
       "      <th>4</th>\n",
       "      <td>98.613215</td>\n",
       "      <td>-20</td>\n",
       "      <td>-12.0</td>\n",
       "      <td>1018.0</td>\n",
       "      <td>12.97</td>\n",
       "      <td>0</td>\n",
       "      <td>0</td>\n",
       "      <td>0.017213</td>\n",
       "      <td>0.999852</td>\n",
       "      <td>1</td>\n",
       "      <td>0</td>\n",
       "      <td>0</td>\n",
       "    </tr>\n",
       "  </tbody>\n",
       "</table>\n",
       "</div>"
      ],
      "text/plain": [
       "       pm2.5  DEWP  TEMP    PRES    Iws  Is  Ir   sin_day   cos_day  cbwd_NW  \\\n",
       "0  98.613215   -21 -11.0  1021.0   1.79   0   0  0.017213  0.999852        1   \n",
       "1  98.613215   -21 -12.0  1020.0   4.92   0   0  0.017213  0.999852        1   \n",
       "2  98.613215   -21 -11.0  1019.0   6.71   0   0  0.017213  0.999852        1   \n",
       "3  98.613215   -21 -14.0  1019.0   9.84   0   0  0.017213  0.999852        1   \n",
       "4  98.613215   -20 -12.0  1018.0  12.97   0   0  0.017213  0.999852        1   \n",
       "\n",
       "   cbwd_SE  cbwd_cv  \n",
       "0        0        0  \n",
       "1        0        0  \n",
       "2        0        0  \n",
       "3        0        0  \n",
       "4        0        0  "
      ]
     },
     "execution_count": 19,
     "metadata": {},
     "output_type": "execute_result"
    }
   ],
   "source": [
    "data = pd.get_dummies(data,prefix=['cbwd'], drop_first=True)\n",
    "data.head(5)"
   ]
  },
  {
   "cell_type": "markdown",
   "metadata": {},
   "source": [
    "## Splitting the datasets into training sets and Test sets"
   ]
  },
  {
   "cell_type": "code",
   "execution_count": 26,
   "metadata": {},
   "outputs": [],
   "source": [
    "X = data.drop(labels=['pm2.5'], axis=1).values\n",
    "Y = data.iloc[ : , 0].values"
   ]
  },
  {
   "cell_type": "code",
   "execution_count": 21,
   "metadata": {},
   "outputs": [
    {
     "name": "stderr",
     "output_type": "stream",
     "text": [
      "C:\\Users\\DQ815GM\\AppData\\Local\\Continuum\\anaconda3\\lib\\site-packages\\sklearn\\cross_validation.py:41: DeprecationWarning:\n",
      "\n",
      "This module was deprecated in version 0.18 in favor of the model_selection module into which all the refactored classes and functions are moved. Also note that the interface of the new CV iterators are different from that of this module. This module will be removed in 0.20.\n",
      "\n"
     ]
    }
   ],
   "source": [
    "from sklearn.cross_validation import train_test_split\n",
    "X_train, X_test, Y_train, Y_test = train_test_split( X , Y , test_size = 0.2, random_state = 0)"
   ]
  },
  {
   "cell_type": "code",
   "execution_count": 22,
   "metadata": {},
   "outputs": [],
   "source": [
    "from sklearn.preprocessing import StandardScaler\n",
    "sc_X = StandardScaler()\n",
    "X_train = sc_X.fit_transform(X_train)\n",
    "X_test = sc_X.fit_transform(X_test)"
   ]
  },
  {
   "cell_type": "code",
   "execution_count": 23,
   "metadata": {
    "scrolled": false
   },
   "outputs": [
    {
     "name": "stdout",
     "output_type": "stream",
     "text": [
      "X_train shape is:  (35059, 11)\n",
      "Y_train shape is:  (35059,)\n",
      "X_test shape is:  (8765, 11)\n",
      "Y_test shape is:  (8765,)\n"
     ]
    }
   ],
   "source": [
    "print('X_train shape is: ', X_train.shape)\n",
    "print('Y_train shape is: ', Y_train.shape)\n",
    "print('X_test shape is: ', X_test.shape)\n",
    "print('Y_test shape is: ', Y_test.shape)"
   ]
  },
  {
   "cell_type": "markdown",
   "metadata": {},
   "source": [
    "## Keras"
   ]
  },
  {
   "cell_type": "code",
   "execution_count": 84,
   "metadata": {},
   "outputs": [],
   "source": [
    "import keras\n",
    "from keras.models import Sequential\n",
    "from keras.layers import Dense, Dropout, Activation\n",
    "from keras import optimizers"
   ]
  },
  {
   "cell_type": "code",
   "execution_count": 85,
   "metadata": {},
   "outputs": [],
   "source": [
    "# Initialising the ANN\n",
    "ANN = Sequential()\n",
    "\n",
    "# Adding the input layer and the first hidden layer\n",
    "ANN.add(Dense(units = 11, kernel_initializer = 'normal', activation = 'softmax', input_dim = 11))\n",
    "\n",
    "# Adding the second hidden layer\n",
    "ANN.add(Dense(units = 6, kernel_initializer = 'normal', activation = 'softmax'))\n",
    "ANN.add(Dropout(0.5))\n",
    "\n",
    "# Adding the output layer\n",
    "ANN.add(Dense(units = 1, kernel_initializer = 'normal', activation = 'softmax'))\n",
    "\n",
    "# Compiling the ANN\n",
    "sgd = optimizers.SGD(lr=0.01, decay=1e-6, momentum=0.9, nesterov=True)\n",
    "ANN.compile(optimizer = sgd, loss = 'mean_squared_error', metrics=['accuracy'])"
   ]
  },
  {
   "cell_type": "code",
   "execution_count": 86,
   "metadata": {
    "scrolled": true
   },
   "outputs": [
    {
     "name": "stdout",
     "output_type": "stream",
     "text": [
      "Epoch 1/100\n",
      "35059/35059 [==============================] - 6s 165us/step - loss: 17578.7617 - acc: 1.4262e-04\n",
      "Epoch 2/100\n",
      "35059/35059 [==============================] - 5s 155us/step - loss: 17578.7617 - acc: 1.4262e-04\n",
      "Epoch 3/100\n",
      "35059/35059 [==============================] - 6s 162us/step - loss: 17578.7617 - acc: 1.4262e-04\n",
      "Epoch 4/100\n",
      "35059/35059 [==============================] - 9s 266us/step - loss: 17578.7617 - acc: 1.4262e-04\n",
      "Epoch 5/100\n",
      "35059/35059 [==============================] - 15s 437us/step - loss: 17578.7617 - acc: 1.4262e-04\n",
      "Epoch 6/100\n",
      "35059/35059 [==============================] - 11s 315us/step - loss: 17578.7617 - acc: 1.4262e-04\n",
      "Epoch 7/100\n",
      "35059/35059 [==============================] - 15s 441us/step - loss: 17578.7617 - acc: 1.4262e-04\n",
      "Epoch 8/100\n",
      "35059/35059 [==============================] - 13s 382us/step - loss: 17578.7617 - acc: 1.4262e-04\n",
      "Epoch 9/100\n",
      "35059/35059 [==============================] - 20s 564us/step - loss: 17578.7617 - acc: 1.4262e-04\n",
      "Epoch 10/100\n",
      "35059/35059 [==============================] - 14s 401us/step - loss: 17578.7617 - acc: 1.4262e-04\n",
      "Epoch 11/100\n",
      "35059/35059 [==============================] - 15s 420us/step - loss: 17578.7617 - acc: 1.4262e-04\n",
      "Epoch 12/100\n",
      "35059/35059 [==============================] - 12s 329us/step - loss: 17578.7617 - acc: 1.4262e-04\n",
      "Epoch 13/100\n",
      "35059/35059 [==============================] - 13s 366us/step - loss: 17578.7617 - acc: 1.4262e-04\n",
      "Epoch 14/100\n",
      "35059/35059 [==============================] - 14s 402us/step - loss: 17578.7617 - acc: 1.4262e-04\n",
      "Epoch 15/100\n",
      "35059/35059 [==============================] - 14s 397us/step - loss: 17578.7617 - acc: 1.4262e-04\n",
      "Epoch 16/100\n",
      "35059/35059 [==============================] - 13s 362us/step - loss: 17578.7617 - acc: 1.4262e-04\n",
      "Epoch 17/100\n",
      "35059/35059 [==============================] - 7s 203us/step - loss: 17578.7617 - acc: 1.4262e-04 0s - loss: 17547.8495 - acc: 1.\n",
      "Epoch 18/100\n",
      "35059/35059 [==============================] - 7s 208us/step - loss: 17578.7617 - acc: 1.4262e-04\n",
      "Epoch 19/100\n",
      "35059/35059 [==============================] - 9s 263us/step - loss: 17578.7617 - acc: 1.4262e-04\n",
      "Epoch 20/100\n",
      "35059/35059 [==============================] - 11s 310us/step - loss: 17578.7617 - acc: 1.4262e-04\n",
      "Epoch 21/100\n",
      "35059/35059 [==============================] - 10s 284us/step - loss: 17578.7617 - acc: 1.4262e-04\n",
      "Epoch 22/100\n",
      "35059/35059 [==============================] - 10s 280us/step - loss: 17578.7617 - acc: 1.4262e-04\n",
      "Epoch 23/100\n",
      "35059/35059 [==============================] - 9s 266us/step - loss: 17578.7617 - acc: 1.4262e-04\n",
      "Epoch 24/100\n",
      "35059/35059 [==============================] - 8s 242us/step - loss: 17578.7617 - acc: 1.4262e-04\n",
      "Epoch 25/100\n",
      "35059/35059 [==============================] - 11s 315us/step - loss: 17578.7617 - acc: 1.4262e-04\n",
      "Epoch 26/100\n",
      "35059/35059 [==============================] - 12s 343us/step - loss: 17578.7617 - acc: 1.4262e-04\n",
      "Epoch 27/100\n",
      "35059/35059 [==============================] - 17s 475us/step - loss: 17578.7617 - acc: 1.4262e-044s -\n",
      "Epoch 28/100\n",
      "35059/35059 [==============================] - 13s 375us/step - loss: 17578.7617 - acc: 1.4262e-04\n",
      "Epoch 29/100\n",
      "35059/35059 [==============================] - 13s 383us/step - loss: 17578.7617 - acc: 1.4262e-04\n",
      "Epoch 30/100\n",
      "35059/35059 [==============================] - 10s 275us/step - loss: 17578.7617 - acc: 1.4262e-04\n",
      "Epoch 31/100\n",
      "35059/35059 [==============================] - 9s 259us/step - loss: 17578.7617 - acc: 1.4262e-04\n",
      "Epoch 32/100\n",
      "35059/35059 [==============================] - 10s 297us/step - loss: 17578.7617 - acc: 1.4262e-04\n",
      "Epoch 33/100\n",
      "35059/35059 [==============================] - 9s 260us/step - loss: 17578.7617 - acc: 1.4262e-04\n",
      "Epoch 34/100\n",
      "35059/35059 [==============================] - 9s 244us/step - loss: 17578.7617 - acc: 1.4262e-04\n",
      "Epoch 35/100\n",
      "35059/35059 [==============================] - 9s 248us/step - loss: 17578.7617 - acc: 1.4262e-04\n",
      "Epoch 36/100\n",
      "35059/35059 [==============================] - 9s 246us/step - loss: 17578.7617 - acc: 1.4262e-04\n",
      "Epoch 37/100\n",
      "35059/35059 [==============================] - 9s 266us/step - loss: 17578.7617 - acc: 1.4262e-04\n",
      "Epoch 38/100\n",
      "35059/35059 [==============================] - 8s 240us/step - loss: 17578.7617 - acc: 1.4262e-04\n",
      "Epoch 39/100\n",
      "35059/35059 [==============================] - 10s 277us/step - loss: 17578.7617 - acc: 1.4262e-04\n",
      "Epoch 40/100\n",
      "35059/35059 [==============================] - 9s 248us/step - loss: 17578.7617 - acc: 1.4262e-04\n",
      "Epoch 41/100\n",
      "35059/35059 [==============================] - 8s 235us/step - loss: 17578.7617 - acc: 1.4262e-04\n",
      "Epoch 42/100\n",
      "35059/35059 [==============================] - 10s 273us/step - loss: 17578.7617 - acc: 1.4262e-04\n",
      "Epoch 43/100\n",
      "35059/35059 [==============================] - 7s 211us/step - loss: 17578.7617 - acc: 1.4262e-04\n",
      "Epoch 44/100\n",
      "35059/35059 [==============================] - 8s 215us/step - loss: 17578.7617 - acc: 1.4262e-04\n",
      "Epoch 45/100\n",
      "35059/35059 [==============================] - 8s 236us/step - loss: 17578.7617 - acc: 1.4262e-04\n",
      "Epoch 46/100\n",
      "35059/35059 [==============================] - 8s 220us/step - loss: 17578.7617 - acc: 1.4262e-04\n",
      "Epoch 47/100\n",
      "35059/35059 [==============================] - 12s 348us/step - loss: 17578.7617 - acc: 1.4262e-04\n",
      "Epoch 48/100\n",
      "35059/35059 [==============================] - 12s 346us/step - loss: 17578.7617 - acc: 1.4262e-04\n",
      "Epoch 49/100\n",
      "35059/35059 [==============================] - 11s 303us/step - loss: 17578.7617 - acc: 1.4262e-040s - loss: 175\n",
      "Epoch 50/100\n",
      "35059/35059 [==============================] - 12s 331us/step - loss: 17578.7617 - acc: 1.4262e-04\n",
      "Epoch 51/100\n",
      "35059/35059 [==============================] - 11s 315us/step - loss: 17578.7617 - acc: 1.4262e-04\n",
      "Epoch 52/100\n",
      "35059/35059 [==============================] - 13s 379us/step - loss: 17578.7617 - acc: 1.4262e-04\n",
      "Epoch 53/100\n",
      "35059/35059 [==============================] - 11s 316us/step - loss: 17578.7617 - acc: 1.4262e-04\n",
      "Epoch 54/100\n",
      "35059/35059 [==============================] - 12s 348us/step - loss: 17578.7617 - acc: 1.4262e-04\n",
      "Epoch 55/100\n",
      "35059/35059 [==============================] - 11s 326us/step - loss: 17578.7617 - acc: 1.4262e-04\n",
      "Epoch 56/100\n",
      "35059/35059 [==============================] - 14s 403us/step - loss: 17578.7617 - acc: 1.4262e-04\n",
      "Epoch 57/100\n",
      "35059/35059 [==============================] - 15s 436us/step - loss: 17578.7617 - acc: 1.4262e-04\n",
      "Epoch 58/100\n",
      "35059/35059 [==============================] - 13s 381us/step - loss: 17578.7617 - acc: 1.4262e-04\n",
      "Epoch 59/100\n",
      "35059/35059 [==============================] - 12s 337us/step - loss: 17578.7617 - acc: 1.4262e-04\n",
      "Epoch 60/100\n",
      "35059/35059 [==============================] - 13s 372us/step - loss: 17578.7617 - acc: 1.4262e-04\n",
      "Epoch 61/100\n",
      "35059/35059 [==============================] - 8s 239us/step - loss: 17578.7617 - acc: 1.4262e-04\n",
      "Epoch 62/100\n",
      "35059/35059 [==============================] - 9s 243us/step - loss: 17578.7617 - acc: 1.4262e-04\n",
      "Epoch 63/100\n",
      "35059/35059 [==============================] - 10s 275us/step - loss: 17578.7617 - acc: 1.4262e-04\n",
      "Epoch 64/100\n",
      "35059/35059 [==============================] - 10s 290us/step - loss: 17578.7617 - acc: 1.4262e-04\n",
      "Epoch 65/100\n",
      "35059/35059 [==============================] - 12s 330us/step - loss: 17578.7617 - acc: 1.4262e-040s - loss: 17507.3251 - acc: \n",
      "Epoch 66/100\n",
      "35059/35059 [==============================] - 12s 352us/step - loss: 17578.7617 - acc: 1.4262e-041s - loss: 17658.7797 - acc: 9 - ETA: 0s - loss: 17670.3919 - acc: 9.1827e-0 - ETA: 0s - loss: 17654.9753 -  - ETA: 0s - loss: 17577.4968 - acc: 1.4\n",
      "Epoch 67/100\n",
      "35059/35059 [==============================] - 13s 361us/step - loss: 17578.7617 - acc: 1.4262e-04\n",
      "Epoch 68/100\n",
      "35059/35059 [==============================] - 13s 366us/step - loss: 17578.7617 - acc: 1.4262e-04\n",
      "Epoch 69/100\n",
      "35059/35059 [==============================] - 11s 312us/step - loss: 17578.7617 - acc: 1.4262e-04\n",
      "Epoch 70/100\n",
      "35059/35059 [==============================] - 13s 381us/step - loss: 17578.7617 - acc: 1.4262e-04\n",
      "Epoch 71/100\n",
      "35059/35059 [==============================] - 12s 351us/step - loss: 17578.7617 - acc: 1.4262e-04\n",
      "Epoch 72/100\n",
      "35059/35059 [==============================] - 6s 163us/step - loss: 17578.7617 - acc: 1.4262e-04\n",
      "Epoch 73/100\n",
      "35059/35059 [==============================] - 6s 180us/step - loss: 17578.7617 - acc: 1.4262e-04\n",
      "Epoch 74/100\n",
      "35059/35059 [==============================] - 5s 143us/step - loss: 17578.7617 - acc: 1.4262e-04\n",
      "Epoch 75/100\n",
      "35059/35059 [==============================] - 5s 135us/step - loss: 17578.7617 - acc: 1.4262e-04\n",
      "Epoch 76/100\n",
      "35059/35059 [==============================] - 5s 144us/step - loss: 17578.7617 - acc: 1.4262e-04\n",
      "Epoch 77/100\n",
      "35059/35059 [==============================] - 4s 123us/step - loss: 17578.7617 - acc: 1.4262e-04\n",
      "Epoch 78/100\n",
      "35059/35059 [==============================] - 4s 120us/step - loss: 17578.7617 - acc: 1.4262e-04\n",
      "Epoch 79/100\n",
      "35059/35059 [==============================] - 4s 121us/step - loss: 17578.7617 - acc: 1.4262e-04\n",
      "Epoch 80/100\n",
      "35059/35059 [==============================] - 4s 119us/step - loss: 17578.7617 - acc: 1.4262e-04\n",
      "Epoch 81/100\n",
      "35059/35059 [==============================] - 5s 130us/step - loss: 17578.7617 - acc: 1.4262e-04\n",
      "Epoch 82/100\n",
      "35059/35059 [==============================] - 5s 149us/step - loss: 17578.7617 - acc: 1.4262e-04\n",
      "Epoch 83/100\n",
      "35059/35059 [==============================] - 4s 128us/step - loss: 17578.7617 - acc: 1.4262e-04\n",
      "Epoch 84/100\n",
      "35059/35059 [==============================] - 4s 119us/step - loss: 17578.7617 - acc: 1.4262e-04 0s - loss: 17653.8454 - acc: 1\n",
      "Epoch 85/100\n",
      "35059/35059 [==============================] - 5s 136us/step - loss: 17578.7617 - acc: 1.4262e-04\n",
      "Epoch 86/100\n",
      "35059/35059 [==============================] - 5s 132us/step - loss: 17578.7617 - acc: 1.4262e-04 1s - loss: 176\n",
      "Epoch 87/100\n",
      "35059/35059 [==============================] - 4s 126us/step - loss: 17578.7617 - acc: 1.4262e-04\n",
      "Epoch 88/100\n",
      "35059/35059 [==============================] - 5s 130us/step - loss: 17578.7617 - acc: 1.4262e-04\n",
      "Epoch 89/100\n",
      "35059/35059 [==============================] - 5s 149us/step - loss: 17578.7617 - acc: 1.4262e-04\n",
      "Epoch 90/100\n",
      "35059/35059 [==============================] - 4s 120us/step - loss: 17578.7617 - acc: 1.4262e-04\n",
      "Epoch 91/100\n",
      "35059/35059 [==============================] - 4s 117us/step - loss: 17578.7617 - acc: 1.4262e-04\n",
      "Epoch 92/100\n",
      "35059/35059 [==============================] - 4s 127us/step - loss: 17578.7617 - acc: 1.4262e-04\n",
      "Epoch 93/100\n",
      "35059/35059 [==============================] - 5s 132us/step - loss: 17578.7617 - acc: 1.4262e-04\n",
      "Epoch 94/100\n",
      "35059/35059 [==============================] - 5s 136us/step - loss: 17578.7617 - acc: 1.4262e-04\n",
      "Epoch 95/100\n",
      "35059/35059 [==============================] - 5s 136us/step - loss: 17578.7617 - acc: 1.4262e-04\n",
      "Epoch 96/100\n",
      "35059/35059 [==============================] - 5s 131us/step - loss: 17578.7617 - acc: 1.4262e-04\n",
      "Epoch 97/100\n",
      "35059/35059 [==============================] - 4s 127us/step - loss: 17578.7617 - acc: 1.4262e-04\n",
      "Epoch 98/100\n",
      "35059/35059 [==============================] - 4s 125us/step - loss: 17578.7617 - acc: 1.4262e-04\n",
      "Epoch 99/100\n",
      "35059/35059 [==============================] - 4s 119us/step - loss: 17578.7617 - acc: 1.4262e-04\n",
      "Epoch 100/100\n",
      "35059/35059 [==============================] - 4s 113us/step - loss: 17578.7617 - acc: 1.4262e-04\n"
     ]
    },
    {
     "data": {
      "text/plain": [
       "<keras.callbacks.History at 0x2d94c7f0>"
      ]
     },
     "execution_count": 86,
     "metadata": {},
     "output_type": "execute_result"
    }
   ],
   "source": [
    "# Fitting the ANN to the Training set\n",
    "ANN.fit(X_train, Y_train, batch_size = 10, epochs = 100)"
   ]
  },
  {
   "cell_type": "code",
   "execution_count": 88,
   "metadata": {},
   "outputs": [],
   "source": [
    "# Part 3 - Making the predictions and evaluating the model\n",
    "\n",
    "# Predicting the Test set results\n",
    "y_pred = ANN.predict(X_test)"
   ]
  },
  {
   "cell_type": "markdown",
   "metadata": {},
   "source": [
    "## TensorFlow"
   ]
  },
  {
   "cell_type": "code",
   "execution_count": 24,
   "metadata": {},
   "outputs": [],
   "source": [
    "Y_train = Y_train.reshape(Y_train.shape[0], 1)\n",
    "Y_test = Y_test.reshape(Y_test.shape[0], 1)"
   ]
  },
  {
   "cell_type": "code",
   "execution_count": 25,
   "metadata": {
    "scrolled": true
   },
   "outputs": [
    {
     "name": "stdout",
     "output_type": "stream",
     "text": [
      "X_train shape is:  (35059, 11)\n",
      "Y_train shape is:  (35059, 1)\n",
      "X_test shape is:  (8765, 11)\n",
      "Y_test shape is:  (8765, 1)\n"
     ]
    }
   ],
   "source": [
    "print('X_train shape is: ', X_train.shape)\n",
    "print('Y_train shape is: ', Y_train.shape)\n",
    "print('X_test shape is: ', X_test.shape)\n",
    "print('Y_test shape is: ', Y_test.shape)"
   ]
  },
  {
   "cell_type": "code",
   "execution_count": 63,
   "metadata": {},
   "outputs": [],
   "source": [
    "INPUT_DIMENSION  = 11\n",
    "OUTPUT_DIMENSION = 1\n",
    "N_EPOCHS         = 1000\n",
    "BATCH_SIZE       = 32 #Mini Batch Gradient Descent\n",
    "display_step     = 50\n",
    "LEARNING_RATE    = 0.5"
   ]
  },
  {
   "cell_type": "code",
   "execution_count": 64,
   "metadata": {},
   "outputs": [],
   "source": [
    "x = tf.placeholder(tf.float64, [None, INPUT_DIMENSION])\n",
    "y_expected = tf.placeholder(tf.float64, [None, OUTPUT_DIMENSION])"
   ]
  },
  {
   "cell_type": "code",
   "execution_count": 65,
   "metadata": {},
   "outputs": [],
   "source": [
    "W = tf.Variable(tf.random_normal([INPUT_DIMENSION, OUTPUT_DIMENSION], mean=0, stddev=10))\n",
    "b = tf.Variable(tf.zeros([OUTPUT_DIMENSION]))\n",
    "W = tf.cast(W, tf.float64)\n",
    "b = tf.cast(b, tf.float64)"
   ]
  },
  {
   "cell_type": "code",
   "execution_count": 66,
   "metadata": {},
   "outputs": [],
   "source": [
    "# Here we define our model which utilizes the softmax regression.\n",
    "y = tf.nn.softmax(tf.matmul(x, W) + b)\n",
    "y = tf.cast(y, tf.float64)"
   ]
  },
  {
   "cell_type": "code",
   "execution_count": 67,
   "metadata": {},
   "outputs": [],
   "source": [
    "# MSE loss function\n",
    "loss = tf.losses.mean_squared_error(y_expected, y)"
   ]
  },
  {
   "cell_type": "code",
   "execution_count": 68,
   "metadata": {},
   "outputs": [],
   "source": [
    "# Define our optimizer.\n",
    "train_step = tf.train.GradientDescentOptimizer(LEARNING_RATE).minimize(loss)"
   ]
  },
  {
   "cell_type": "code",
   "execution_count": 69,
   "metadata": {},
   "outputs": [],
   "source": [
    "# Define accuracy.\n",
    "accuracy = tf.reduce_mean(y_expected - y)"
   ]
  },
  {
   "cell_type": "code",
   "execution_count": 70,
   "metadata": {},
   "outputs": [],
   "source": [
    "init = tf.global_variables_initializer()"
   ]
  },
  {
   "cell_type": "code",
   "execution_count": 77,
   "metadata": {
    "scrolled": true
   },
   "outputs": [
    {
     "name": "stdout",
     "output_type": "stream",
     "text": [
      "Epoch: 0050 cost= 17578.34 W= [[  0.38021907]\n",
      " [  4.31197596]\n",
      " [ -7.84288025]\n",
      " [ -9.85824394]\n",
      " [  3.54856586]\n",
      " [ 18.21729088]\n",
      " [  7.15040112]\n",
      " [ 11.63804817]\n",
      " [-17.74384499]\n",
      " [ 13.4793148 ]\n",
      " [  9.04172993]] b= [0.]\n",
      "Epoch: 0100 cost= 17578.34 W= [[  0.38021907]\n",
      " [  4.31197596]\n",
      " [ -7.84288025]\n",
      " [ -9.85824394]\n",
      " [  3.54856586]\n",
      " [ 18.21729088]\n",
      " [  7.15040112]\n",
      " [ 11.63804817]\n",
      " [-17.74384499]\n",
      " [ 13.4793148 ]\n",
      " [  9.04172993]] b= [0.]\n",
      "Epoch: 0150 cost= 17578.34 W= [[  0.38021907]\n",
      " [  4.31197596]\n",
      " [ -7.84288025]\n",
      " [ -9.85824394]\n",
      " [  3.54856586]\n",
      " [ 18.21729088]\n",
      " [  7.15040112]\n",
      " [ 11.63804817]\n",
      " [-17.74384499]\n",
      " [ 13.4793148 ]\n",
      " [  9.04172993]] b= [0.]\n",
      "Test Accuracy 96.6946\n"
     ]
    }
   ],
   "source": [
    "# Start training\n",
    "with tf.Session() as sess:\n",
    "    sess.run(init)\n",
    "\n",
    "    # Do the training\n",
    "    for epoch in range(150):\n",
    "        for i in range(50):\n",
    "            sess.run(train_step, feed_dict={x: X_train,\n",
    "                                            y_expected: Y_train})\n",
    "            c = sess.run(loss, feed_dict={x: X_train,\n",
    "                                          y_expected: Y_train})\n",
    "        if (epoch+1) % display_step == 0:\n",
    "            print(\"Epoch:\", '%04d' % (epoch+1), \"cost=\", \"{:.2f}\".format(c),\n",
    "                  \"W=\", sess.run(W), \"b=\", sess.run(b))\n",
    "            \n",
    "    # predict output of test data after training        \n",
    "    pred = sess.run(y, feed_dict={x: X_test})\n",
    "    \n",
    "    # See how model did.\n",
    "    print(\"Test Accuracy %g\" % sess.run(accuracy, feed_dict={x: X_test,\n",
    "                                                             y_expected: Y_test}))"
   ]
  }
 ],
 "metadata": {
  "kernelspec": {
   "display_name": "Python 3",
   "language": "python",
   "name": "python3"
  },
  "language_info": {
   "codemirror_mode": {
    "name": "ipython",
    "version": 3
   },
   "file_extension": ".py",
   "mimetype": "text/x-python",
   "name": "python",
   "nbconvert_exporter": "python",
   "pygments_lexer": "ipython3",
   "version": "3.6.5"
  }
 },
 "nbformat": 4,
 "nbformat_minor": 2
}
