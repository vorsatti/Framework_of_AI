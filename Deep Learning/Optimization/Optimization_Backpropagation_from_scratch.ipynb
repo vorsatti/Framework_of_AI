{
 "cells": [
  {
   "cell_type": "markdown",
   "metadata": {},
   "source": [
    "The following code implements a neural network with an hidden layer.\n",
    "For a simplest Neural Network check this: http://iamtrask.github.io/2015/07/12/basic-python-network/"
   ]
  },
  {
   "cell_type": "code",
   "execution_count": 1,
   "metadata": {
    "collapsed": true
   },
   "outputs": [],
   "source": [
    "#dependencies (matrix math) \n",
    "import numpy as np"
   ]
  },
  {
   "cell_type": "code",
   "execution_count": 2,
   "metadata": {},
   "outputs": [
    {
     "name": "stdout",
     "output_type": "stream",
     "text": [
      "[[0 0 1]\n",
      " [0 1 1]\n",
      " [1 0 1]\n",
      " [1 1 1]]\n",
      "[[0]\n",
      " [1]\n",
      " [1]\n",
      " [0]]\n"
     ]
    }
   ],
   "source": [
    "#input data\n",
    "input_data = np.array([[0,0,1],\n",
    "            [0,1,1],\n",
    "            [1,0,1],\n",
    "            [1,1,1]])\n",
    "                \n",
    "output_labels = np.array([[0],\n",
    "            [1],\n",
    "            [1],\n",
    "            [0]])\n",
    "\n",
    "print(input_data)\n",
    "print(output_labels)"
   ]
  },
  {
   "cell_type": "code",
   "execution_count": 3,
   "metadata": {
    "collapsed": true
   },
   "outputs": [],
   "source": [
    "# sigmoid function\n",
    "def activate(x,deriv=False):\n",
    "    if(deriv==True):\n",
    "        return x*(1-x)\n",
    "    return 1/(1+np.exp(-x))"
   ]
  },
  {
   "cell_type": "code",
   "execution_count": 4,
   "metadata": {
    "scrolled": true
   },
   "outputs": [
    {
     "name": "stdout",
     "output_type": "stream",
     "text": [
      "[[ 0.54969199 -0.7388136   0.65276113  0.27332282]\n",
      " [-0.95528218 -0.04012118 -0.14603297  0.85252821]\n",
      " [-0.00283674 -0.94953697  0.12963559 -0.34949967]]\n",
      "[[-0.81678388]\n",
      " [ 0.90764242]\n",
      " [ 0.14785876]\n",
      " [-0.53525641]]\n"
     ]
    }
   ],
   "source": [
    "# 2 weight values\n",
    "synaptic_weight_0 = 2*np.random.random((3,4)) - 1\n",
    "synaptic_weight_1 = 2*np.random.random((4,1)) - 1\n",
    "\n",
    "print(synaptic_weight_0)\n",
    "print(synaptic_weight_1)"
   ]
  },
  {
   "attachments": {},
   "cell_type": "markdown",
   "metadata": {},
   "source": [
    "### Optimization\n",
    "We want to find the smallest error so to yield the optimal parameter values fr our model.\n",
    "The process of searching this space of our model to obtain a better evaluation is called optimization.\n",
    "The following is the gradient descent strategy and when we apply gradient descent to Neural Network is called backpropagation.\n",
    "But How?\n",
    "- Initialize the weights randomly\n",
    "- Calculate the error using our error function (ex. MSE)\n",
    "- Use that error values to compute the partial derivative with respect to all the weights and we can call this the gradient\n",
    "- Use the gradient to update the weights slightly in a certain direction towards the samllest error value\n",
    "- Do these steps over and over  until the weights converge to their optimal values\n",
    "\n",
    "![optimization.png](images/optimization.png)\n",
    "\n",
    "![optimization3.png](images/optimization3.png)"
   ]
  },
  {
   "cell_type": "code",
   "execution_count": 24,
   "metadata": {},
   "outputs": [
    {
     "name": "stdout",
     "output_type": "stream",
     "text": [
      "Error:0.0037511378445238145\n",
      "Error:0.0034609556160009073\n",
      "Error:0.003228404626190851\n",
      "Error:0.0030366894373669443\n",
      "Error:0.002875144132431823\n",
      "Error:0.0027366293755244644\n"
     ]
    }
   ],
   "source": [
    "for j in range(60000):\n",
    "\n",
    "    # Forward propagate through layers 0, 1, and 2\n",
    "    layer0 = input_data\n",
    "    layer1 = activate(np.dot(layer0,synaptic_weight_0))\n",
    "    layer2 = activate(np.dot(layer1,synaptic_weight_1))\n",
    "\n",
    "    #calculate error for layer 2\n",
    "    layer2_error = output_labels - layer2\n",
    "    \n",
    "    if (j % 10000) == 0:\n",
    "        print (\"Error:\" + str(np.mean(np.abs(layer2_error))))\n",
    "        \n",
    "    #Use it to compute the gradient\n",
    "    layer2_gradient = layer2_error*activate(layer2,deriv=True)\n",
    "\n",
    "    #calculate error for layer 1\n",
    "    layer1_error = layer2_gradient.dot(synaptic_weight_1.T)\n",
    "    \n",
    "    #Use it to compute its gradient\n",
    "    layer1_gradient = layer1_error * activate(layer1,deriv=True)\n",
    "    \n",
    "    #update the weights using the gradients\n",
    "    synaptic_weight_1 += layer1.T.dot(layer2_gradient)\n",
    "    synaptic_weight_0 += layer0.T.dot(layer1_gradient)"
   ]
  },
  {
   "cell_type": "code",
   "execution_count": 27,
   "metadata": {},
   "outputs": [
    {
     "name": "stdout",
     "output_type": "stream",
     "text": [
      "[0.86024    0.96566549 0.00311442 0.99991361]\n"
     ]
    }
   ],
   "source": [
    "#testing\n",
    "print(activate(np.dot(list([0, 1, 1]), synaptic_weight_0)))"
   ]
  },
  {
   "attachments": {},
   "cell_type": "markdown",
   "metadata": {},
   "source": [
    "##### Which optimizer would we use?\n",
    "\n",
    "![adam.png](images/adam.png)\n",
    "\n",
    "We calculate the first moment, that is the mean, and the second moment, the variance, of the gradient respectively.\n",
    "Then we use those values to update the weights (parameters).\n",
    "\n",
    "![adam2.png](images/adam2.png)"
   ]
  }
 ],
 "metadata": {
  "kernelspec": {
   "display_name": "Python 3",
   "language": "python",
   "name": "python3"
  },
  "language_info": {
   "codemirror_mode": {
    "name": "ipython",
    "version": 3
   },
   "file_extension": ".py",
   "mimetype": "text/x-python",
   "name": "python",
   "nbconvert_exporter": "python",
   "pygments_lexer": "ipython3",
   "version": "3.5.2"
  }
 },
 "nbformat": 4,
 "nbformat_minor": 2
}
